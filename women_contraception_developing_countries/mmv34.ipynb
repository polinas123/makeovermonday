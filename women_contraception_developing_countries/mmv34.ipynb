{
 "cells": [
  {
   "cell_type": "code",
   "execution_count": 1,
   "metadata": {},
   "outputs": [],
   "source": [
    "import pandas as pd "
   ]
  },
  {
   "cell_type": "code",
   "execution_count": 210,
   "metadata": {},
   "outputs": [],
   "source": [
    "import plotly.express as px"
   ]
  },
  {
   "cell_type": "code",
   "execution_count": 324,
   "metadata": {},
   "outputs": [],
   "source": [
    "import plotly.io as pio"
   ]
  },
  {
   "cell_type": "code",
   "execution_count": null,
   "metadata": {},
   "outputs": [],
   "source": [
    "import country_converter as coco"
   ]
  },
  {
   "cell_type": "code",
   "execution_count": 494,
   "metadata": {},
   "outputs": [],
   "source": [
    "import chart_studio"
   ]
  },
  {
   "cell_type": "code",
   "execution_count": 563,
   "metadata": {},
   "outputs": [],
   "source": [
    "df = pd.read_csv('https://query.data.world/s/vcepkrwtvpci6neayomihcirjeq3ay', engine='python', encoding='unicode_escape')"
   ]
  },
  {
   "cell_type": "code",
   "execution_count": 707,
   "metadata": {},
   "outputs": [
    {
     "data": {
      "text/html": [
       "<div>\n",
       "<style scoped>\n",
       "    .dataframe tbody tr th:only-of-type {\n",
       "        vertical-align: middle;\n",
       "    }\n",
       "\n",
       "    .dataframe tbody tr th {\n",
       "        vertical-align: top;\n",
       "    }\n",
       "\n",
       "    .dataframe thead th {\n",
       "        text-align: right;\n",
       "    }\n",
       "</style>\n",
       "<table border=\"1\" class=\"dataframe\">\n",
       "  <thead>\n",
       "    <tr style=\"text-align: right;\">\n",
       "      <th></th>\n",
       "      <th>Continent</th>\n",
       "      <th>Sub-Continent</th>\n",
       "      <th>Country</th>\n",
       "      <th>Percentage distribution of women aged 15-49  (per country)</th>\n",
       "      <th>Pregnancy intention</th>\n",
       "      <th>Contraceptive availability</th>\n",
       "      <th>Contraceptive method</th>\n",
       "    </tr>\n",
       "  </thead>\n",
       "  <tbody>\n",
       "    <tr>\n",
       "      <th>0</th>\n",
       "      <td>Africa</td>\n",
       "      <td>Eastern Africa</td>\n",
       "      <td>Burundi</td>\n",
       "      <td>0.650838</td>\n",
       "      <td>Not wanting to avoid pregancy</td>\n",
       "      <td>Not applicable</td>\n",
       "      <td>Not applicable</td>\n",
       "    </tr>\n",
       "    <tr>\n",
       "      <th>1</th>\n",
       "      <td>Africa</td>\n",
       "      <td>Eastern Africa</td>\n",
       "      <td>Burundi</td>\n",
       "      <td>0.113709</td>\n",
       "      <td>Wanting to avoid pregnancy</td>\n",
       "      <td>Met need</td>\n",
       "      <td>Using modern methods</td>\n",
       "    </tr>\n",
       "    <tr>\n",
       "      <th>2</th>\n",
       "      <td>Africa</td>\n",
       "      <td>Eastern Africa</td>\n",
       "      <td>Burundi</td>\n",
       "      <td>0.024347</td>\n",
       "      <td>Wanting to avoid pregnancy</td>\n",
       "      <td>Unmet need</td>\n",
       "      <td>Using traditional methods</td>\n",
       "    </tr>\n",
       "    <tr>\n",
       "      <th>3</th>\n",
       "      <td>Africa</td>\n",
       "      <td>Eastern Africa</td>\n",
       "      <td>Burundi</td>\n",
       "      <td>0.211106</td>\n",
       "      <td>Wanting to avoid pregnancy</td>\n",
       "      <td>Unmet need</td>\n",
       "      <td>Using no method</td>\n",
       "    </tr>\n",
       "    <tr>\n",
       "      <th>4</th>\n",
       "      <td>Africa</td>\n",
       "      <td>Eastern Africa</td>\n",
       "      <td>Comoros</td>\n",
       "      <td>0.666126</td>\n",
       "      <td>Not wanting to avoid pregancy</td>\n",
       "      <td>Not applicable</td>\n",
       "      <td>Not applicable</td>\n",
       "    </tr>\n",
       "  </tbody>\n",
       "</table>\n",
       "</div>"
      ],
      "text/plain": [
       "  Continent   Sub-Continent  Country  \\\n",
       "0    Africa  Eastern Africa  Burundi   \n",
       "1    Africa  Eastern Africa  Burundi   \n",
       "2    Africa  Eastern Africa  Burundi   \n",
       "3    Africa  Eastern Africa  Burundi   \n",
       "4    Africa  Eastern Africa  Comoros   \n",
       "\n",
       "   Percentage distribution of women aged 15-49  (per country)  \\\n",
       "0                                           0.650838            \n",
       "1                                           0.113709            \n",
       "2                                           0.024347            \n",
       "3                                           0.211106            \n",
       "4                                           0.666126            \n",
       "\n",
       "             Pregnancy intention Contraceptive availability  \\\n",
       "0  Not wanting to avoid pregancy             Not applicable   \n",
       "1     Wanting to avoid pregnancy                   Met need   \n",
       "2     Wanting to avoid pregnancy                 Unmet need   \n",
       "3     Wanting to avoid pregnancy                 Unmet need   \n",
       "4  Not wanting to avoid pregancy             Not applicable   \n",
       "\n",
       "        Contraceptive method  \n",
       "0             Not applicable  \n",
       "1       Using modern methods  \n",
       "2  Using traditional methods  \n",
       "3            Using no method  \n",
       "4             Not applicable  "
      ]
     },
     "execution_count": 707,
     "metadata": {},
     "output_type": "execute_result"
    }
   ],
   "source": [
    "df.head()"
   ]
  },
  {
   "cell_type": "code",
   "execution_count": 576,
   "metadata": {},
   "outputs": [],
   "source": [
    "def supply_demand(df, country):\n",
    "    x = df[df.Country==country].groupby([\"Pregnancy intention\",\"Contraceptive availability\"]).sum()\n",
    "    x.loc[:,\"supply\"] = x.loc[\"Wanting to avoid pregnancy\"].unstack().values[0]\n",
    "    x.loc[:,\"demand\"] = 1-x.loc[\"Not wanting to avoid pregancy\"].unstack().values[0]\n",
    "    x.loc[:,\"deficit\"] = x.demand-x.supply\n",
    "    x.loc[:,\"access\"] = x.loc[\"Wanting to avoid pregnancy\"].unstack().values[0]/x.demand\n",
    "    x.loc[:, \"no_access\"] = 1-x.access\n",
    "    x.loc[:, \"no_access_\"] = np.log(x.access)*(-1)\n",
    "    x.loc[:,\"country\"] = country\n",
    "    return x"
   ]
  },
  {
   "cell_type": "code",
   "execution_count": 577,
   "metadata": {},
   "outputs": [],
   "source": [
    "def tidy(df):\n",
    "    tidy = pd.concat([supply_demand(df=df,country=country) for country in df.Country.unique().tolist()])\n",
    "    tidy.reset_index(inplace=True)\n",
    "    tidy.drop(tidy.columns[0:3], axis=1, inplace=True)\n",
    "    tidy.drop_duplicates(inplace=True)\n",
    "    return tidy"
   ]
  },
  {
   "cell_type": "code",
   "execution_count": 578,
   "metadata": {},
   "outputs": [],
   "source": [
    "tidy = tidy(df)"
   ]
  },
  {
   "cell_type": "code",
   "execution_count": 579,
   "metadata": {},
   "outputs": [
    {
     "name": "stderr",
     "output_type": "stream",
     "text": [
      "WARNING:root:Virgin Islands not found in regex\n"
     ]
    }
   ],
   "source": [
    "tidy.loc[:,\"codes\"] = coco.convert(names=tidy.country.tolist(), to='ISO3')"
   ]
  },
  {
   "cell_type": "code",
   "execution_count": 580,
   "metadata": {},
   "outputs": [
    {
     "data": {
      "text/html": [
       "<div>\n",
       "<style scoped>\n",
       "    .dataframe tbody tr th:only-of-type {\n",
       "        vertical-align: middle;\n",
       "    }\n",
       "\n",
       "    .dataframe tbody tr th {\n",
       "        vertical-align: top;\n",
       "    }\n",
       "\n",
       "    .dataframe thead th {\n",
       "        text-align: right;\n",
       "    }\n",
       "</style>\n",
       "<table border=\"1\" class=\"dataframe\">\n",
       "  <thead>\n",
       "    <tr style=\"text-align: right;\">\n",
       "      <th></th>\n",
       "      <th>supply</th>\n",
       "      <th>demand</th>\n",
       "      <th>deficit</th>\n",
       "      <th>access</th>\n",
       "      <th>no_access</th>\n",
       "      <th>no_access_</th>\n",
       "      <th>country</th>\n",
       "      <th>codes</th>\n",
       "    </tr>\n",
       "  </thead>\n",
       "  <tbody>\n",
       "    <tr>\n",
       "      <th>0</th>\n",
       "      <td>0.113709</td>\n",
       "      <td>0.349162</td>\n",
       "      <td>0.235453</td>\n",
       "      <td>0.325663</td>\n",
       "      <td>0.674337</td>\n",
       "      <td>1.121891</td>\n",
       "      <td>Burundi</td>\n",
       "      <td>BDI</td>\n",
       "    </tr>\n",
       "  </tbody>\n",
       "</table>\n",
       "</div>"
      ],
      "text/plain": [
       "     supply    demand   deficit    access  no_access  no_access_  country  \\\n",
       "0  0.113709  0.349162  0.235453  0.325663   0.674337    1.121891  Burundi   \n",
       "\n",
       "  codes  \n",
       "0   BDI  "
      ]
     },
     "execution_count": 580,
     "metadata": {},
     "output_type": "execute_result"
    }
   ],
   "source": [
    "tidy[tidy.country==\"Burundi\"]"
   ]
  },
  {
   "cell_type": "code",
   "execution_count": 587,
   "metadata": {},
   "outputs": [
    {
     "data": {
      "application/vnd.plotly.v1+json": {
       "config": {
        "plotlyServerURL": "https://plot.ly"
       },
       "data": [
        {
         "coloraxis": "coloraxis",
         "geo": "geo",
         "hovertemplate": "<b>%{hovertext}</b><br><br>codes=%{location}<br>deficit=%{z}<extra></extra>",
         "hovertext": [
          "Burundi",
          "Comoros",
          "Djibouti",
          "Eritrea",
          "Ethiopia",
          "Kenya",
          "Madagascar",
          "Malawi",
          "Mauritius",
          "Mozambique",
          "Reunion",
          "Rwanda",
          "Somalia",
          "South Sudan",
          "Tanzania",
          "Uganda",
          "Zambia",
          "Zimbabwe",
          "Angola",
          "Cameroon",
          "Central African Republic",
          "Chad",
          "Congo",
          "Democratic Republic of the Congo",
          "Equatorial Guinea",
          "Gabon",
          "Sao Tome and Principe",
          "Botswana",
          "Lesotho",
          "Namibia",
          "South Africa",
          "Swaziland",
          "Benin",
          "Burkina Faso",
          "Cape Verde",
          "Côte d'Ivoire",
          "Gambia",
          "Ghana",
          "Guinea",
          "Guinea-Bissau",
          "Liberia",
          "Mali",
          "Mauritania",
          "Niger",
          "Nigeria",
          "Senegal",
          "Sierra Leone",
          "Togo",
          "Algeria",
          "Egypt",
          "Libya",
          "Morocco",
          "Sudan",
          "Tunisia",
          "Western Sahara",
          "China",
          "Hong Kong (China)",
          "Macau",
          "North Korea",
          "Mongolia",
          "South Korea",
          "Kazakhstan",
          "Kyrgyzstan",
          "Tajikistan",
          "Turkmenistan",
          "Uzbekistan",
          "Afghanistan",
          "Bangladesh",
          "Bhutan",
          "India",
          "Iran",
          "Maldives",
          "Nepal",
          "Pakistan",
          "Sri Lanka",
          "Brunei Darussalam",
          "Cambodia",
          "Indonesia",
          "Laos",
          "Malaysia",
          "Myanmar",
          "Philippines",
          "Singapore",
          "Thailand",
          "Timor-Leste",
          "Viet Nam",
          "Armenia",
          "Azerbaijan",
          "Bahrain",
          "Cyprus",
          "Georgia",
          "Iraq",
          "Israel",
          "Jordan",
          "Kuwait",
          "Lebanon",
          "Oman",
          "Qatar",
          "Saudi Arabia",
          "Palestinian Territories",
          "Syria",
          "Turkey",
          "United Arab Emirates",
          "Yemen",
          "Fiji",
          "New Caledonia",
          "Papua New Guinea",
          "Solomon Islands",
          "Vanuatu",
          "Guam",
          "Federated States of Micronesia",
          "French Polynesia",
          "Samoa",
          "Tonga",
          "Bahamas",
          "Barbados",
          "Cuba",
          "Dominican Republic",
          "Guadeloupe",
          "Haiti",
          "Jamaica",
          "Martinique",
          "Puerto Rico",
          "Saint Lucia",
          "St. Vincent & the Grenadines",
          "Trinidad and Tobago",
          "Virgin Islands",
          "Belize",
          "Costa Rica",
          "El Salvador",
          "Guatemala",
          "Honduras",
          "Mexico",
          "Nicaragua",
          "Panama",
          "Argentina",
          "Bolivia",
          "Brazil",
          "Chile",
          "Colombia",
          "Ecuador",
          "French Guiana",
          "Guyana",
          "Paraguay",
          "Peru",
          "Suriname",
          "Uruguay",
          "Venezuela"
         ],
         "locations": [
          "BDI",
          "COM",
          "DJI",
          "ERI",
          "ETH",
          "KEN",
          "MDG",
          "MWI",
          "MUS",
          "MOZ",
          "REU",
          "RWA",
          "SOM",
          "SSD",
          "TZA",
          "UGA",
          "ZMB",
          "ZWE",
          "AGO",
          "CMR",
          "CAF",
          "TCD",
          "COG",
          "COD",
          "GNQ",
          "GAB",
          "STP",
          "BWA",
          "LSO",
          "NAM",
          "ZAF",
          "SWZ",
          "BEN",
          "BFA",
          "CPV",
          "CIV",
          "GMB",
          "GHA",
          "GIN",
          "GNB",
          "LBR",
          "MLI",
          "MRT",
          "NER",
          "NGA",
          "SEN",
          "SLE",
          "TGO",
          "DZA",
          "EGY",
          "LBY",
          "MAR",
          "SDN",
          "TUN",
          "ESH",
          "CHN",
          "HKG",
          "MAC",
          "PRK",
          "MNG",
          "KOR",
          "KAZ",
          "KGZ",
          "TJK",
          "TKM",
          "UZB",
          "AFG",
          "BGD",
          "BTN",
          "IND",
          "IRN",
          "MDV",
          "NPL",
          "PAK",
          "LKA",
          "BRN",
          "KHM",
          "IDN",
          "LAO",
          "MYS",
          "MMR",
          "PHL",
          "SGP",
          "THA",
          "TLS",
          "VNM",
          "ARM",
          "AZE",
          "BHR",
          "CYP",
          "GEO",
          "IRQ",
          "ISR",
          "JOR",
          "KWT",
          "LBN",
          "OMN",
          "QAT",
          "SAU",
          "PSE",
          "SYR",
          "TUR",
          "ARE",
          "YEM",
          "FJI",
          "NCL",
          "PNG",
          "SLB",
          "VUT",
          "GUM",
          "FSM",
          "PYF",
          "WSM",
          "TON",
          "BHS",
          "BRB",
          "CUB",
          "DOM",
          "GLP",
          "HTI",
          "JAM",
          "MTQ",
          "PRI",
          "LCA",
          "VCT",
          "TTO",
          "not found",
          "BLZ",
          "CRI",
          "SLV",
          "GTM",
          "HND",
          "MEX",
          "NIC",
          "PAN",
          "ARG",
          "BOL",
          "BRA",
          "CHL",
          "COL",
          "ECU",
          "GUF",
          "GUY",
          "PRY",
          "PER",
          "SUR",
          "URY",
          "VEN"
         ],
         "name": "",
         "type": "choropleth",
         "z": [
          0.23545287458299302,
          0.2388052099819292,
          0.1814039454650929,
          0.23837684155167693,
          0.14167496151231398,
          0.147440726919828,
          0.24065171751633294,
          0.18048142947188905,
          0.20057756670886,
          0.25450018492908394,
          0.17077551166523997,
          0.1684760684922621,
          0.22419643966561303,
          0.23293759895311617,
          0.23930291073758098,
          0.264429634315049,
          0.21480219096191394,
          0.09719329296250095,
          0.30703680825513197,
          0.259490673417375,
          0.29436145886868204,
          0.19077417743098435,
          0.25349544571029803,
          0.34309329137582784,
          0.28684772409205106,
          0.3281847370803861,
          0.31387289503004695,
          0.14161338989888106,
          0.15324890577895994,
          0.13850865961861003,
          0.141913095191192,
          0.11509286782842887,
          0.353045305651444,
          0.293072674517224,
          0.17941257144372114,
          0.31719053147766196,
          0.16545137525628414,
          0.260072215125703,
          0.23056664175934696,
          0.22068540744326898,
          0.324202148263527,
          0.11529796460563899,
          0.23379849394917931,
          0.1485879645921886,
          0.18384682924832008,
          0.19254460574463592,
          0.23998416114098997,
          0.30749880517698003,
          0.11082730679683606,
          0.09509404493229606,
          0.20120536698485736,
          0.10339145088129192,
          0.17085273023002095,
          0.10517031313462294,
          0.13659833442819308,
          0.047850656959202986,
          0.08693848637237306,
          0.057391891802705985,
          0.052728767939488996,
          0.2088572075105059,
          0.11654714157803198,
          0.12220539344404402,
          0.14406024940623502,
          0.18238103758314902,
          0.13254758295375502,
          0.12356619345717401,
          0.19485774775603795,
          0.16921447681857205,
          0.08895486122979002,
          0.126707383666821,
          0.18843899320613106,
          0.24319396757241205,
          0.21694966079300498,
          0.20376307464912305,
          0.16180002380304892,
          0.125538425263866,
          0.19556027680995797,
          0.11999023856936292,
          0.19415256520671997,
          0.23102261652194198,
          0.10230133741525405,
          0.230392905100476,
          0.12917057105194502,
          0.05851237953119798,
          0.14404291339884234,
          0.179535975731418,
          0.23557434079674103,
          0.33767257034850506,
          0.16949082970428692,
          0.18324223983652096,
          0.222798589273702,
          0.15158105856692894,
          0.178298557587532,
          0.18743758679039607,
          0.13913583483991793,
          0.13922449881042503,
          0.15092341225728678,
          0.09294946599555282,
          0.1976945378670301,
          0.125882435727906,
          0.15477045169803505,
          0.23772143737066104,
          0.25694576193913604,
          0.19129299017358803,
          0.207348884656181,
          0.11653514427188996,
          0.22830985504307305,
          0.148823479069959,
          0.2659899144614519,
          0.16584690106844804,
          0.167294327030044,
          0.11473071759448987,
          0.21726093592786902,
          0.16563974235464998,
          0.171606899809649,
          0.19605779344572105,
          0.09336028864771306,
          0.13419843389519304,
          0.1648605473799089,
          0.2971938015275649,
          0.14927409902729405,
          0.16567283946064293,
          0.174705028567754,
          0.179207966641171,
          0.18357241156698795,
          0.3592533243775761,
          0.16906948313711606,
          0.21937534159365008,
          0.10864718734290502,
          0.13627955882214893,
          0.1715588792942529,
          0.153372462926111,
          0.142198835416475,
          0.07814412926651104,
          0.17053231265957203,
          0.13742963695897503,
          0.2979270942473381,
          0.1063919094768081,
          0.17678649059353496,
          0.13043697338537008,
          0.18710239497828607,
          0.11892193375600107,
          0.23555930573264305,
          0.14790424742278907,
          0.236688643615457,
          0.17906933512551,
          0.135164842974563,
          0.13983159223185793
         ]
        }
       ],
       "layout": {
        "autosize": true,
        "coloraxis": {
         "colorbar": {
          "title": {
           "text": "deficit"
          }
         },
         "colorscale": [
          [
           0,
           "rgb(0, 128, 128)"
          ],
          [
           0.16666666666666666,
           "rgb(112, 164, 148)"
          ],
          [
           0.3333333333333333,
           "rgb(180, 200, 168)"
          ],
          [
           0.5,
           "rgb(246, 237, 189)"
          ],
          [
           0.6666666666666666,
           "rgb(237, 187, 138)"
          ],
          [
           0.8333333333333334,
           "rgb(222, 138, 90)"
          ],
          [
           1,
           "rgb(202, 86, 44)"
          ]
         ]
        },
        "geo": {
         "center": {
          "lat": -10.198829611980948,
          "lon": -17.82671841469343
         },
         "domain": {
          "x": [
           0,
           1
          ],
          "y": [
           0,
           1
          ]
         },
         "projection": {
          "rotation": {
           "lon": -17.82671841469343
          },
          "scale": 1.0041675432389736
         }
        },
        "legend": {
         "tracegroupgap": 0
        },
        "margin": {
         "t": 60
        },
        "paper_bgcolor": "black",
        "plot_bgcolor": "black",
        "template": {
         "data": {
          "bar": [
           {
            "error_x": {
             "color": "#2a3f5f"
            },
            "error_y": {
             "color": "#2a3f5f"
            },
            "marker": {
             "line": {
              "color": "#E5ECF6",
              "width": 0.5
             }
            },
            "type": "bar"
           }
          ],
          "barpolar": [
           {
            "marker": {
             "line": {
              "color": "#E5ECF6",
              "width": 0.5
             }
            },
            "type": "barpolar"
           }
          ],
          "carpet": [
           {
            "aaxis": {
             "endlinecolor": "#2a3f5f",
             "gridcolor": "white",
             "linecolor": "white",
             "minorgridcolor": "white",
             "startlinecolor": "#2a3f5f"
            },
            "baxis": {
             "endlinecolor": "#2a3f5f",
             "gridcolor": "white",
             "linecolor": "white",
             "minorgridcolor": "white",
             "startlinecolor": "#2a3f5f"
            },
            "type": "carpet"
           }
          ],
          "choropleth": [
           {
            "colorbar": {
             "outlinewidth": 0,
             "ticks": ""
            },
            "type": "choropleth"
           }
          ],
          "contour": [
           {
            "colorbar": {
             "outlinewidth": 0,
             "ticks": ""
            },
            "colorscale": [
             [
              0,
              "#0d0887"
             ],
             [
              0.1111111111111111,
              "#46039f"
             ],
             [
              0.2222222222222222,
              "#7201a8"
             ],
             [
              0.3333333333333333,
              "#9c179e"
             ],
             [
              0.4444444444444444,
              "#bd3786"
             ],
             [
              0.5555555555555556,
              "#d8576b"
             ],
             [
              0.6666666666666666,
              "#ed7953"
             ],
             [
              0.7777777777777778,
              "#fb9f3a"
             ],
             [
              0.8888888888888888,
              "#fdca26"
             ],
             [
              1,
              "#f0f921"
             ]
            ],
            "type": "contour"
           }
          ],
          "contourcarpet": [
           {
            "colorbar": {
             "outlinewidth": 0,
             "ticks": ""
            },
            "type": "contourcarpet"
           }
          ],
          "heatmap": [
           {
            "colorbar": {
             "outlinewidth": 0,
             "ticks": ""
            },
            "colorscale": [
             [
              0,
              "#0d0887"
             ],
             [
              0.1111111111111111,
              "#46039f"
             ],
             [
              0.2222222222222222,
              "#7201a8"
             ],
             [
              0.3333333333333333,
              "#9c179e"
             ],
             [
              0.4444444444444444,
              "#bd3786"
             ],
             [
              0.5555555555555556,
              "#d8576b"
             ],
             [
              0.6666666666666666,
              "#ed7953"
             ],
             [
              0.7777777777777778,
              "#fb9f3a"
             ],
             [
              0.8888888888888888,
              "#fdca26"
             ],
             [
              1,
              "#f0f921"
             ]
            ],
            "type": "heatmap"
           }
          ],
          "heatmapgl": [
           {
            "colorbar": {
             "outlinewidth": 0,
             "ticks": ""
            },
            "colorscale": [
             [
              0,
              "#0d0887"
             ],
             [
              0.1111111111111111,
              "#46039f"
             ],
             [
              0.2222222222222222,
              "#7201a8"
             ],
             [
              0.3333333333333333,
              "#9c179e"
             ],
             [
              0.4444444444444444,
              "#bd3786"
             ],
             [
              0.5555555555555556,
              "#d8576b"
             ],
             [
              0.6666666666666666,
              "#ed7953"
             ],
             [
              0.7777777777777778,
              "#fb9f3a"
             ],
             [
              0.8888888888888888,
              "#fdca26"
             ],
             [
              1,
              "#f0f921"
             ]
            ],
            "type": "heatmapgl"
           }
          ],
          "histogram": [
           {
            "marker": {
             "colorbar": {
              "outlinewidth": 0,
              "ticks": ""
             }
            },
            "type": "histogram"
           }
          ],
          "histogram2d": [
           {
            "colorbar": {
             "outlinewidth": 0,
             "ticks": ""
            },
            "colorscale": [
             [
              0,
              "#0d0887"
             ],
             [
              0.1111111111111111,
              "#46039f"
             ],
             [
              0.2222222222222222,
              "#7201a8"
             ],
             [
              0.3333333333333333,
              "#9c179e"
             ],
             [
              0.4444444444444444,
              "#bd3786"
             ],
             [
              0.5555555555555556,
              "#d8576b"
             ],
             [
              0.6666666666666666,
              "#ed7953"
             ],
             [
              0.7777777777777778,
              "#fb9f3a"
             ],
             [
              0.8888888888888888,
              "#fdca26"
             ],
             [
              1,
              "#f0f921"
             ]
            ],
            "type": "histogram2d"
           }
          ],
          "histogram2dcontour": [
           {
            "colorbar": {
             "outlinewidth": 0,
             "ticks": ""
            },
            "colorscale": [
             [
              0,
              "#0d0887"
             ],
             [
              0.1111111111111111,
              "#46039f"
             ],
             [
              0.2222222222222222,
              "#7201a8"
             ],
             [
              0.3333333333333333,
              "#9c179e"
             ],
             [
              0.4444444444444444,
              "#bd3786"
             ],
             [
              0.5555555555555556,
              "#d8576b"
             ],
             [
              0.6666666666666666,
              "#ed7953"
             ],
             [
              0.7777777777777778,
              "#fb9f3a"
             ],
             [
              0.8888888888888888,
              "#fdca26"
             ],
             [
              1,
              "#f0f921"
             ]
            ],
            "type": "histogram2dcontour"
           }
          ],
          "mesh3d": [
           {
            "colorbar": {
             "outlinewidth": 0,
             "ticks": ""
            },
            "type": "mesh3d"
           }
          ],
          "parcoords": [
           {
            "line": {
             "colorbar": {
              "outlinewidth": 0,
              "ticks": ""
             }
            },
            "type": "parcoords"
           }
          ],
          "pie": [
           {
            "automargin": true,
            "type": "pie"
           }
          ],
          "scatter": [
           {
            "marker": {
             "colorbar": {
              "outlinewidth": 0,
              "ticks": ""
             }
            },
            "type": "scatter"
           }
          ],
          "scatter3d": [
           {
            "line": {
             "colorbar": {
              "outlinewidth": 0,
              "ticks": ""
             }
            },
            "marker": {
             "colorbar": {
              "outlinewidth": 0,
              "ticks": ""
             }
            },
            "type": "scatter3d"
           }
          ],
          "scattercarpet": [
           {
            "marker": {
             "colorbar": {
              "outlinewidth": 0,
              "ticks": ""
             }
            },
            "type": "scattercarpet"
           }
          ],
          "scattergeo": [
           {
            "marker": {
             "colorbar": {
              "outlinewidth": 0,
              "ticks": ""
             }
            },
            "type": "scattergeo"
           }
          ],
          "scattergl": [
           {
            "marker": {
             "colorbar": {
              "outlinewidth": 0,
              "ticks": ""
             }
            },
            "type": "scattergl"
           }
          ],
          "scattermapbox": [
           {
            "marker": {
             "colorbar": {
              "outlinewidth": 0,
              "ticks": ""
             }
            },
            "type": "scattermapbox"
           }
          ],
          "scatterpolar": [
           {
            "marker": {
             "colorbar": {
              "outlinewidth": 0,
              "ticks": ""
             }
            },
            "type": "scatterpolar"
           }
          ],
          "scatterpolargl": [
           {
            "marker": {
             "colorbar": {
              "outlinewidth": 0,
              "ticks": ""
             }
            },
            "type": "scatterpolargl"
           }
          ],
          "scatterternary": [
           {
            "marker": {
             "colorbar": {
              "outlinewidth": 0,
              "ticks": ""
             }
            },
            "type": "scatterternary"
           }
          ],
          "surface": [
           {
            "colorbar": {
             "outlinewidth": 0,
             "ticks": ""
            },
            "colorscale": [
             [
              0,
              "#0d0887"
             ],
             [
              0.1111111111111111,
              "#46039f"
             ],
             [
              0.2222222222222222,
              "#7201a8"
             ],
             [
              0.3333333333333333,
              "#9c179e"
             ],
             [
              0.4444444444444444,
              "#bd3786"
             ],
             [
              0.5555555555555556,
              "#d8576b"
             ],
             [
              0.6666666666666666,
              "#ed7953"
             ],
             [
              0.7777777777777778,
              "#fb9f3a"
             ],
             [
              0.8888888888888888,
              "#fdca26"
             ],
             [
              1,
              "#f0f921"
             ]
            ],
            "type": "surface"
           }
          ],
          "table": [
           {
            "cells": {
             "fill": {
              "color": "#EBF0F8"
             },
             "line": {
              "color": "white"
             }
            },
            "header": {
             "fill": {
              "color": "#C8D4E3"
             },
             "line": {
              "color": "white"
             }
            },
            "type": "table"
           }
          ]
         },
         "layout": {
          "annotationdefaults": {
           "arrowcolor": "#2a3f5f",
           "arrowhead": 0,
           "arrowwidth": 1
          },
          "coloraxis": {
           "colorbar": {
            "outlinewidth": 0,
            "ticks": ""
           }
          },
          "colorscale": {
           "diverging": [
            [
             0,
             "#8e0152"
            ],
            [
             0.1,
             "#c51b7d"
            ],
            [
             0.2,
             "#de77ae"
            ],
            [
             0.3,
             "#f1b6da"
            ],
            [
             0.4,
             "#fde0ef"
            ],
            [
             0.5,
             "#f7f7f7"
            ],
            [
             0.6,
             "#e6f5d0"
            ],
            [
             0.7,
             "#b8e186"
            ],
            [
             0.8,
             "#7fbc41"
            ],
            [
             0.9,
             "#4d9221"
            ],
            [
             1,
             "#276419"
            ]
           ],
           "sequential": [
            [
             0,
             "#0d0887"
            ],
            [
             0.1111111111111111,
             "#46039f"
            ],
            [
             0.2222222222222222,
             "#7201a8"
            ],
            [
             0.3333333333333333,
             "#9c179e"
            ],
            [
             0.4444444444444444,
             "#bd3786"
            ],
            [
             0.5555555555555556,
             "#d8576b"
            ],
            [
             0.6666666666666666,
             "#ed7953"
            ],
            [
             0.7777777777777778,
             "#fb9f3a"
            ],
            [
             0.8888888888888888,
             "#fdca26"
            ],
            [
             1,
             "#f0f921"
            ]
           ],
           "sequentialminus": [
            [
             0,
             "#0d0887"
            ],
            [
             0.1111111111111111,
             "#46039f"
            ],
            [
             0.2222222222222222,
             "#7201a8"
            ],
            [
             0.3333333333333333,
             "#9c179e"
            ],
            [
             0.4444444444444444,
             "#bd3786"
            ],
            [
             0.5555555555555556,
             "#d8576b"
            ],
            [
             0.6666666666666666,
             "#ed7953"
            ],
            [
             0.7777777777777778,
             "#fb9f3a"
            ],
            [
             0.8888888888888888,
             "#fdca26"
            ],
            [
             1,
             "#f0f921"
            ]
           ]
          },
          "colorway": [
           "#636efa",
           "#EF553B",
           "#00cc96",
           "#ab63fa",
           "#FFA15A",
           "#19d3f3",
           "#FF6692",
           "#B6E880",
           "#FF97FF",
           "#FECB52"
          ],
          "font": {
           "color": "#2a3f5f"
          },
          "geo": {
           "bgcolor": "white",
           "lakecolor": "white",
           "landcolor": "#E5ECF6",
           "showlakes": true,
           "showland": true,
           "subunitcolor": "white"
          },
          "hoverlabel": {
           "align": "left"
          },
          "hovermode": "closest",
          "mapbox": {
           "style": "light"
          },
          "paper_bgcolor": "white",
          "plot_bgcolor": "#E5ECF6",
          "polar": {
           "angularaxis": {
            "gridcolor": "white",
            "linecolor": "white",
            "ticks": ""
           },
           "bgcolor": "#E5ECF6",
           "radialaxis": {
            "gridcolor": "white",
            "linecolor": "white",
            "ticks": ""
           }
          },
          "scene": {
           "xaxis": {
            "backgroundcolor": "#E5ECF6",
            "gridcolor": "white",
            "gridwidth": 2,
            "linecolor": "white",
            "showbackground": true,
            "ticks": "",
            "zerolinecolor": "white"
           },
           "yaxis": {
            "backgroundcolor": "#E5ECF6",
            "gridcolor": "white",
            "gridwidth": 2,
            "linecolor": "white",
            "showbackground": true,
            "ticks": "",
            "zerolinecolor": "white"
           },
           "zaxis": {
            "backgroundcolor": "#E5ECF6",
            "gridcolor": "white",
            "gridwidth": 2,
            "linecolor": "white",
            "showbackground": true,
            "ticks": "",
            "zerolinecolor": "white"
           }
          },
          "shapedefaults": {
           "line": {
            "color": "#2a3f5f"
           }
          },
          "ternary": {
           "aaxis": {
            "gridcolor": "white",
            "linecolor": "white",
            "ticks": ""
           },
           "baxis": {
            "gridcolor": "white",
            "linecolor": "white",
            "ticks": ""
           },
           "bgcolor": "#E5ECF6",
           "caxis": {
            "gridcolor": "white",
            "linecolor": "white",
            "ticks": ""
           }
          },
          "title": {
           "x": 0.05
          },
          "xaxis": {
           "automargin": true,
           "gridcolor": "white",
           "linecolor": "white",
           "ticks": "",
           "title": {
            "standoff": 15
           },
           "zerolinecolor": "white",
           "zerolinewidth": 2
          },
          "yaxis": {
           "automargin": true,
           "gridcolor": "white",
           "linecolor": "white",
           "ticks": "",
           "title": {
            "standoff": 15
           },
           "zerolinecolor": "white",
           "zerolinewidth": 2
          }
         }
        }
       }
      },
      "image/png": "[encoded data removed]",
      "text/html": [
       "<div>\n",
       "        \n",
       "        \n",
       "            <div id=\"ac400733-79cf-452d-97da-a1c5e88af8be\" class=\"plotly-graph-div\" style=\"height:525px; width:100%;\"></div>\n",
       "            <script type=\"text/javascript\">\n",
       "                require([\"plotly\"], function(Plotly) {\n",
       "                    window.PLOTLYENV=window.PLOTLYENV || {};\n",
       "                    \n",
       "                if (document.getElementById(\"ac400733-79cf-452d-97da-a1c5e88af8be\")) {\n",
       "                    Plotly.newPlot(\n",
       "                        'ac400733-79cf-452d-97da-a1c5e88af8be',\n",
       "                        [{\"coloraxis\": \"coloraxis\", \"geo\": \"geo\", \"hovertemplate\": \"<b>%{hovertext}</b><br><br>codes=%{location}<br>deficit=%{z}<extra></extra>\", \"hovertext\": [\"Burundi\", \"Comoros\", \"Djibouti\", \"Eritrea\", \"Ethiopia\", \"Kenya\", \"Madagascar\", \"Malawi\", \"Mauritius\", \"Mozambique\", \"Reunion\", \"Rwanda\", \"Somalia\", \"South Sudan\", \"Tanzania\", \"Uganda\", \"Zambia\", \"Zimbabwe\", \"Angola\", \"Cameroon\", \"Central African Republic\", \"Chad\", \"Congo\", \"Democratic Republic of the Congo\", \"Equatorial Guinea\", \"Gabon\", \"Sao Tome and Principe\", \"Botswana\", \"Lesotho\", \"Namibia\", \"South Africa\", \"Swaziland\", \"Benin\", \"Burkina Faso\", \"Cape Verde\", \"C\\u00f4te d'Ivoire\", \"Gambia\", \"Ghana\", \"Guinea\", \"Guinea-Bissau\", \"Liberia\", \"Mali\", \"Mauritania\", \"Niger\", \"Nigeria\", \"Senegal\", \"Sierra Leone\", \"Togo\", \"Algeria\", \"Egypt\", \"Libya\", \"Morocco\", \"Sudan\", \"Tunisia\", \"Western Sahara\", \"China\", \"Hong Kong (China)\", \"Macau\", \"North Korea\", \"Mongolia\", \"South Korea\", \"Kazakhstan\", \"Kyrgyzstan\", \"Tajikistan\", \"Turkmenistan\", \"Uzbekistan\", \"Afghanistan\", \"Bangladesh\", \"Bhutan\", \"India\", \"Iran\", \"Maldives\", \"Nepal\", \"Pakistan\", \"Sri Lanka\", \"Brunei Darussalam\", \"Cambodia\", \"Indonesia\", \"Laos\", \"Malaysia\", \"Myanmar\", \"Philippines\", \"Singapore\", \"Thailand\", \"Timor-Leste\", \"Viet Nam\", \"Armenia\", \"Azerbaijan\", \"Bahrain\", \"Cyprus\", \"Georgia\", \"Iraq\", \"Israel\", \"Jordan\", \"Kuwait\", \"Lebanon\", \"Oman\", \"Qatar\", \"Saudi Arabia\", \"Palestinian Territories\", \"Syria\", \"Turkey\", \"United Arab Emirates\", \"Yemen\", \"Fiji\", \"New Caledonia\", \"Papua New Guinea\", \"Solomon Islands\", \"Vanuatu\", \"Guam\", \"Federated States of Micronesia\", \"French Polynesia\", \"Samoa\", \"Tonga\", \"Bahamas\", \"Barbados\", \"Cuba\", \"Dominican Republic\", \"Guadeloupe\", \"Haiti\", \"Jamaica\", \"Martinique\", \"Puerto Rico\", \"Saint Lucia\", \"St. Vincent & the Grenadines\", \"Trinidad and Tobago\", \"Virgin Islands\", \"Belize\", \"Costa Rica\", \"El Salvador\", \"Guatemala\", \"Honduras\", \"Mexico\", \"Nicaragua\", \"Panama\", \"Argentina\", \"Bolivia\", \"Brazil\", \"Chile\", \"Colombia\", \"Ecuador\", \"French Guiana\", \"Guyana\", \"Paraguay\", \"Peru\", \"Suriname\", \"Uruguay\", \"Venezuela\"], \"locations\": [\"BDI\", \"COM\", \"DJI\", \"ERI\", \"ETH\", \"KEN\", \"MDG\", \"MWI\", \"MUS\", \"MOZ\", \"REU\", \"RWA\", \"SOM\", \"SSD\", \"TZA\", \"UGA\", \"ZMB\", \"ZWE\", \"AGO\", \"CMR\", \"CAF\", \"TCD\", \"COG\", \"COD\", \"GNQ\", \"GAB\", \"STP\", \"BWA\", \"LSO\", \"NAM\", \"ZAF\", \"SWZ\", \"BEN\", \"BFA\", \"CPV\", \"CIV\", \"GMB\", \"GHA\", \"GIN\", \"GNB\", \"LBR\", \"MLI\", \"MRT\", \"NER\", \"NGA\", \"SEN\", \"SLE\", \"TGO\", \"DZA\", \"EGY\", \"LBY\", \"MAR\", \"SDN\", \"TUN\", \"ESH\", \"CHN\", \"HKG\", \"MAC\", \"PRK\", \"MNG\", \"KOR\", \"KAZ\", \"KGZ\", \"TJK\", \"TKM\", \"UZB\", \"AFG\", \"BGD\", \"BTN\", \"IND\", \"IRN\", \"MDV\", \"NPL\", \"PAK\", \"LKA\", \"BRN\", \"KHM\", \"IDN\", \"LAO\", \"MYS\", \"MMR\", \"PHL\", \"SGP\", \"THA\", \"TLS\", \"VNM\", \"ARM\", \"AZE\", \"BHR\", \"CYP\", \"GEO\", \"IRQ\", \"ISR\", \"JOR\", \"KWT\", \"LBN\", \"OMN\", \"QAT\", \"SAU\", \"PSE\", \"SYR\", \"TUR\", \"ARE\", \"YEM\", \"FJI\", \"NCL\", \"PNG\", \"SLB\", \"VUT\", \"GUM\", \"FSM\", \"PYF\", \"WSM\", \"TON\", \"BHS\", \"BRB\", \"CUB\", \"DOM\", \"GLP\", \"HTI\", \"JAM\", \"MTQ\", \"PRI\", \"LCA\", \"VCT\", \"TTO\", \"not found\", \"BLZ\", \"CRI\", \"SLV\", \"GTM\", \"HND\", \"MEX\", \"NIC\", \"PAN\", \"ARG\", \"BOL\", \"BRA\", \"CHL\", \"COL\", \"ECU\", \"GUF\", \"GUY\", \"PRY\", \"PER\", \"SUR\", \"URY\", \"VEN\"], \"name\": \"\", \"type\": \"choropleth\", \"z\": [0.23545287458299302, 0.2388052099819292, 0.1814039454650929, 0.23837684155167693, 0.14167496151231398, 0.147440726919828, 0.24065171751633294, 0.18048142947188905, 0.20057756670886, 0.25450018492908394, 0.17077551166523997, 0.1684760684922621, 0.22419643966561303, 0.23293759895311617, 0.23930291073758098, 0.264429634315049, 0.21480219096191394, 0.09719329296250095, 0.30703680825513197, 0.259490673417375, 0.29436145886868204, 0.19077417743098435, 0.25349544571029803, 0.34309329137582784, 0.28684772409205106, 0.3281847370803861, 0.31387289503004695, 0.14161338989888106, 0.15324890577895994, 0.13850865961861003, 0.141913095191192, 0.11509286782842887, 0.353045305651444, 0.293072674517224, 0.17941257144372114, 0.31719053147766196, 0.16545137525628414, 0.260072215125703, 0.23056664175934696, 0.22068540744326898, 0.324202148263527, 0.11529796460563899, 0.23379849394917931, 0.1485879645921886, 0.18384682924832008, 0.19254460574463592, 0.23998416114098997, 0.30749880517698003, 0.11082730679683606, 0.09509404493229606, 0.20120536698485736, 0.10339145088129192, 0.17085273023002095, 0.10517031313462294, 0.13659833442819308, 0.047850656959202986, 0.08693848637237306, 0.057391891802705985, 0.052728767939488996, 0.2088572075105059, 0.11654714157803198, 0.12220539344404402, 0.14406024940623502, 0.18238103758314902, 0.13254758295375502, 0.12356619345717401, 0.19485774775603795, 0.16921447681857205, 0.08895486122979002, 0.126707383666821, 0.18843899320613106, 0.24319396757241205, 0.21694966079300498, 0.20376307464912305, 0.16180002380304892, 0.125538425263866, 0.19556027680995797, 0.11999023856936292, 0.19415256520671997, 0.23102261652194198, 0.10230133741525405, 0.230392905100476, 0.12917057105194502, 0.05851237953119798, 0.14404291339884234, 0.179535975731418, 0.23557434079674103, 0.33767257034850506, 0.16949082970428692, 0.18324223983652096, 0.222798589273702, 0.15158105856692894, 0.178298557587532, 0.18743758679039607, 0.13913583483991793, 0.13922449881042503, 0.15092341225728678, 0.09294946599555282, 0.1976945378670301, 0.125882435727906, 0.15477045169803505, 0.23772143737066104, 0.25694576193913604, 0.19129299017358803, 0.207348884656181, 0.11653514427188996, 0.22830985504307305, 0.148823479069959, 0.2659899144614519, 0.16584690106844804, 0.167294327030044, 0.11473071759448987, 0.21726093592786902, 0.16563974235464998, 0.171606899809649, 0.19605779344572105, 0.09336028864771306, 0.13419843389519304, 0.1648605473799089, 0.2971938015275649, 0.14927409902729405, 0.16567283946064293, 0.174705028567754, 0.179207966641171, 0.18357241156698795, 0.3592533243775761, 0.16906948313711606, 0.21937534159365008, 0.10864718734290502, 0.13627955882214893, 0.1715588792942529, 0.153372462926111, 0.142198835416475, 0.07814412926651104, 0.17053231265957203, 0.13742963695897503, 0.2979270942473381, 0.1063919094768081, 0.17678649059353496, 0.13043697338537008, 0.18710239497828607, 0.11892193375600107, 0.23555930573264305, 0.14790424742278907, 0.236688643615457, 0.17906933512551, 0.135164842974563, 0.13983159223185793]}],\n",
       "                        {\"coloraxis\": {\"colorbar\": {\"title\": {\"text\": \"deficit\"}}, \"colorscale\": [[0.0, \"rgb(0, 128, 128)\"], [0.16666666666666666, \"rgb(112, 164, 148)\"], [0.3333333333333333, \"rgb(180, 200, 168)\"], [0.5, \"rgb(246, 237, 189)\"], [0.6666666666666666, \"rgb(237, 187, 138)\"], [0.8333333333333334, \"rgb(222, 138, 90)\"], [1.0, \"rgb(202, 86, 44)\"]]}, \"geo\": {\"center\": {}, \"domain\": {\"x\": [0.0, 1.0], \"y\": [0.0, 1.0]}}, \"legend\": {\"tracegroupgap\": 0}, \"margin\": {\"t\": 60}, \"paper_bgcolor\": \"black\", \"plot_bgcolor\": \"black\", \"template\": {\"data\": {\"bar\": [{\"error_x\": {\"color\": \"#2a3f5f\"}, \"error_y\": {\"color\": \"#2a3f5f\"}, \"marker\": {\"line\": {\"color\": \"#E5ECF6\", \"width\": 0.5}}, \"type\": \"bar\"}], \"barpolar\": [{\"marker\": {\"line\": {\"color\": \"#E5ECF6\", \"width\": 0.5}}, \"type\": \"barpolar\"}], \"carpet\": [{\"aaxis\": {\"endlinecolor\": \"#2a3f5f\", \"gridcolor\": \"white\", \"linecolor\": \"white\", \"minorgridcolor\": \"white\", \"startlinecolor\": \"#2a3f5f\"}, \"baxis\": {\"endlinecolor\": \"#2a3f5f\", \"gridcolor\": \"white\", \"linecolor\": \"white\", \"minorgridcolor\": \"white\", \"startlinecolor\": \"#2a3f5f\"}, \"type\": \"carpet\"}], \"choropleth\": [{\"colorbar\": {\"outlinewidth\": 0, \"ticks\": \"\"}, \"type\": \"choropleth\"}], \"contour\": [{\"colorbar\": {\"outlinewidth\": 0, \"ticks\": \"\"}, \"colorscale\": [[0.0, \"#0d0887\"], [0.1111111111111111, \"#46039f\"], [0.2222222222222222, \"#7201a8\"], [0.3333333333333333, \"#9c179e\"], [0.4444444444444444, \"#bd3786\"], [0.5555555555555556, \"#d8576b\"], [0.6666666666666666, \"#ed7953\"], [0.7777777777777778, \"#fb9f3a\"], [0.8888888888888888, \"#fdca26\"], [1.0, \"#f0f921\"]], \"type\": \"contour\"}], \"contourcarpet\": [{\"colorbar\": {\"outlinewidth\": 0, \"ticks\": \"\"}, \"type\": \"contourcarpet\"}], \"heatmap\": [{\"colorbar\": {\"outlinewidth\": 0, \"ticks\": \"\"}, \"colorscale\": [[0.0, \"#0d0887\"], [0.1111111111111111, \"#46039f\"], [0.2222222222222222, \"#7201a8\"], [0.3333333333333333, \"#9c179e\"], [0.4444444444444444, \"#bd3786\"], [0.5555555555555556, \"#d8576b\"], [0.6666666666666666, \"#ed7953\"], [0.7777777777777778, \"#fb9f3a\"], [0.8888888888888888, \"#fdca26\"], [1.0, \"#f0f921\"]], \"type\": \"heatmap\"}], \"heatmapgl\": [{\"colorbar\": {\"outlinewidth\": 0, \"ticks\": \"\"}, \"colorscale\": [[0.0, \"#0d0887\"], [0.1111111111111111, \"#46039f\"], [0.2222222222222222, \"#7201a8\"], [0.3333333333333333, \"#9c179e\"], [0.4444444444444444, \"#bd3786\"], [0.5555555555555556, \"#d8576b\"], [0.6666666666666666, \"#ed7953\"], [0.7777777777777778, \"#fb9f3a\"], [0.8888888888888888, \"#fdca26\"], [1.0, \"#f0f921\"]], \"type\": \"heatmapgl\"}], \"histogram\": [{\"marker\": {\"colorbar\": {\"outlinewidth\": 0, \"ticks\": \"\"}}, \"type\": \"histogram\"}], \"histogram2d\": [{\"colorbar\": {\"outlinewidth\": 0, \"ticks\": \"\"}, \"colorscale\": [[0.0, \"#0d0887\"], [0.1111111111111111, \"#46039f\"], [0.2222222222222222, \"#7201a8\"], [0.3333333333333333, \"#9c179e\"], [0.4444444444444444, \"#bd3786\"], [0.5555555555555556, \"#d8576b\"], [0.6666666666666666, \"#ed7953\"], [0.7777777777777778, \"#fb9f3a\"], [0.8888888888888888, \"#fdca26\"], [1.0, \"#f0f921\"]], \"type\": \"histogram2d\"}], \"histogram2dcontour\": [{\"colorbar\": {\"outlinewidth\": 0, \"ticks\": \"\"}, \"colorscale\": [[0.0, \"#0d0887\"], [0.1111111111111111, \"#46039f\"], [0.2222222222222222, \"#7201a8\"], [0.3333333333333333, \"#9c179e\"], [0.4444444444444444, \"#bd3786\"], [0.5555555555555556, \"#d8576b\"], [0.6666666666666666, \"#ed7953\"], [0.7777777777777778, \"#fb9f3a\"], [0.8888888888888888, \"#fdca26\"], [1.0, \"#f0f921\"]], \"type\": \"histogram2dcontour\"}], \"mesh3d\": [{\"colorbar\": {\"outlinewidth\": 0, \"ticks\": \"\"}, \"type\": \"mesh3d\"}], \"parcoords\": [{\"line\": {\"colorbar\": {\"outlinewidth\": 0, \"ticks\": \"\"}}, \"type\": \"parcoords\"}], \"pie\": [{\"automargin\": true, \"type\": \"pie\"}], \"scatter\": [{\"marker\": {\"colorbar\": {\"outlinewidth\": 0, \"ticks\": \"\"}}, \"type\": \"scatter\"}], \"scatter3d\": [{\"line\": {\"colorbar\": {\"outlinewidth\": 0, \"ticks\": \"\"}}, \"marker\": {\"colorbar\": {\"outlinewidth\": 0, \"ticks\": \"\"}}, \"type\": \"scatter3d\"}], \"scattercarpet\": [{\"marker\": {\"colorbar\": {\"outlinewidth\": 0, \"ticks\": \"\"}}, \"type\": \"scattercarpet\"}], \"scattergeo\": [{\"marker\": {\"colorbar\": {\"outlinewidth\": 0, \"ticks\": \"\"}}, \"type\": \"scattergeo\"}], \"scattergl\": [{\"marker\": {\"colorbar\": {\"outlinewidth\": 0, \"ticks\": \"\"}}, \"type\": \"scattergl\"}], \"scattermapbox\": [{\"marker\": {\"colorbar\": {\"outlinewidth\": 0, \"ticks\": \"\"}}, \"type\": \"scattermapbox\"}], \"scatterpolar\": [{\"marker\": {\"colorbar\": {\"outlinewidth\": 0, \"ticks\": \"\"}}, \"type\": \"scatterpolar\"}], \"scatterpolargl\": [{\"marker\": {\"colorbar\": {\"outlinewidth\": 0, \"ticks\": \"\"}}, \"type\": \"scatterpolargl\"}], \"scatterternary\": [{\"marker\": {\"colorbar\": {\"outlinewidth\": 0, \"ticks\": \"\"}}, \"type\": \"scatterternary\"}], \"surface\": [{\"colorbar\": {\"outlinewidth\": 0, \"ticks\": \"\"}, \"colorscale\": [[0.0, \"#0d0887\"], [0.1111111111111111, \"#46039f\"], [0.2222222222222222, \"#7201a8\"], [0.3333333333333333, \"#9c179e\"], [0.4444444444444444, \"#bd3786\"], [0.5555555555555556, \"#d8576b\"], [0.6666666666666666, \"#ed7953\"], [0.7777777777777778, \"#fb9f3a\"], [0.8888888888888888, \"#fdca26\"], [1.0, \"#f0f921\"]], \"type\": \"surface\"}], \"table\": [{\"cells\": {\"fill\": {\"color\": \"#EBF0F8\"}, \"line\": {\"color\": \"white\"}}, \"header\": {\"fill\": {\"color\": \"#C8D4E3\"}, \"line\": {\"color\": \"white\"}}, \"type\": \"table\"}]}, \"layout\": {\"annotationdefaults\": {\"arrowcolor\": \"#2a3f5f\", \"arrowhead\": 0, \"arrowwidth\": 1}, \"coloraxis\": {\"colorbar\": {\"outlinewidth\": 0, \"ticks\": \"\"}}, \"colorscale\": {\"diverging\": [[0, \"#8e0152\"], [0.1, \"#c51b7d\"], [0.2, \"#de77ae\"], [0.3, \"#f1b6da\"], [0.4, \"#fde0ef\"], [0.5, \"#f7f7f7\"], [0.6, \"#e6f5d0\"], [0.7, \"#b8e186\"], [0.8, \"#7fbc41\"], [0.9, \"#4d9221\"], [1, \"#276419\"]], \"sequential\": [[0.0, \"#0d0887\"], [0.1111111111111111, \"#46039f\"], [0.2222222222222222, \"#7201a8\"], [0.3333333333333333, \"#9c179e\"], [0.4444444444444444, \"#bd3786\"], [0.5555555555555556, \"#d8576b\"], [0.6666666666666666, \"#ed7953\"], [0.7777777777777778, \"#fb9f3a\"], [0.8888888888888888, \"#fdca26\"], [1.0, \"#f0f921\"]], \"sequentialminus\": [[0.0, \"#0d0887\"], [0.1111111111111111, \"#46039f\"], [0.2222222222222222, \"#7201a8\"], [0.3333333333333333, \"#9c179e\"], [0.4444444444444444, \"#bd3786\"], [0.5555555555555556, \"#d8576b\"], [0.6666666666666666, \"#ed7953\"], [0.7777777777777778, \"#fb9f3a\"], [0.8888888888888888, \"#fdca26\"], [1.0, \"#f0f921\"]]}, \"colorway\": [\"#636efa\", \"#EF553B\", \"#00cc96\", \"#ab63fa\", \"#FFA15A\", \"#19d3f3\", \"#FF6692\", \"#B6E880\", \"#FF97FF\", \"#FECB52\"], \"font\": {\"color\": \"#2a3f5f\"}, \"geo\": {\"bgcolor\": \"white\", \"lakecolor\": \"white\", \"landcolor\": \"#E5ECF6\", \"showlakes\": true, \"showland\": true, \"subunitcolor\": \"white\"}, \"hoverlabel\": {\"align\": \"left\"}, \"hovermode\": \"closest\", \"mapbox\": {\"style\": \"light\"}, \"paper_bgcolor\": \"white\", \"plot_bgcolor\": \"#E5ECF6\", \"polar\": {\"angularaxis\": {\"gridcolor\": \"white\", \"linecolor\": \"white\", \"ticks\": \"\"}, \"bgcolor\": \"#E5ECF6\", \"radialaxis\": {\"gridcolor\": \"white\", \"linecolor\": \"white\", \"ticks\": \"\"}}, \"scene\": {\"xaxis\": {\"backgroundcolor\": \"#E5ECF6\", \"gridcolor\": \"white\", \"gridwidth\": 2, \"linecolor\": \"white\", \"showbackground\": true, \"ticks\": \"\", \"zerolinecolor\": \"white\"}, \"yaxis\": {\"backgroundcolor\": \"#E5ECF6\", \"gridcolor\": \"white\", \"gridwidth\": 2, \"linecolor\": \"white\", \"showbackground\": true, \"ticks\": \"\", \"zerolinecolor\": \"white\"}, \"zaxis\": {\"backgroundcolor\": \"#E5ECF6\", \"gridcolor\": \"white\", \"gridwidth\": 2, \"linecolor\": \"white\", \"showbackground\": true, \"ticks\": \"\", \"zerolinecolor\": \"white\"}}, \"shapedefaults\": {\"line\": {\"color\": \"#2a3f5f\"}}, \"ternary\": {\"aaxis\": {\"gridcolor\": \"white\", \"linecolor\": \"white\", \"ticks\": \"\"}, \"baxis\": {\"gridcolor\": \"white\", \"linecolor\": \"white\", \"ticks\": \"\"}, \"bgcolor\": \"#E5ECF6\", \"caxis\": {\"gridcolor\": \"white\", \"linecolor\": \"white\", \"ticks\": \"\"}}, \"title\": {\"x\": 0.05}, \"xaxis\": {\"automargin\": true, \"gridcolor\": \"white\", \"linecolor\": \"white\", \"ticks\": \"\", \"title\": {\"standoff\": 15}, \"zerolinecolor\": \"white\", \"zerolinewidth\": 2}, \"yaxis\": {\"automargin\": true, \"gridcolor\": \"white\", \"linecolor\": \"white\", \"ticks\": \"\", \"title\": {\"standoff\": 15}, \"zerolinecolor\": \"white\", \"zerolinewidth\": 2}}}},\n",
       "                        {\"responsive\": true}\n",
       "                    ).then(function(){\n",
       "                            \n",
       "var gd = document.getElementById('ac400733-79cf-452d-97da-a1c5e88af8be');\n",
       "var x = new MutationObserver(function (mutations, observer) {{\n",
       "        var display = window.getComputedStyle(gd).display;\n",
       "        if (!display || display === 'none') {{\n",
       "            console.log([gd, 'removed!']);\n",
       "            Plotly.purge(gd);\n",
       "            observer.disconnect();\n",
       "        }}\n",
       "}});\n",
       "\n",
       "// Listen for the removal of the full notebook cells\n",
       "var notebookContainer = gd.closest('#notebook-container');\n",
       "if (notebookContainer) {{\n",
       "    x.observe(notebookContainer, {childList: true});\n",
       "}}\n",
       "\n",
       "// Listen for the clearing of the current output cell\n",
       "var outputEl = gd.closest('.output');\n",
       "if (outputEl) {{\n",
       "    x.observe(outputEl, {childList: true});\n",
       "}}\n",
       "\n",
       "                        })\n",
       "                };\n",
       "                });\n",
       "            </script>\n",
       "        </div>"
      ]
     },
     "metadata": {},
     "output_type": "display_data"
    }
   ],
   "source": [
    "fig = px.choropleth(tidy, locations=\"codes\",\n",
    "                    color=\"deficit\", # lifeExp is a column of gapminder\n",
    "                    hover_name=\"country\", # column to add to hover information\n",
    "                    color_continuous_scale=px.colors.diverging.Geyser)\n",
    "fig.update_layout(plot_bgcolor=\"black\", paper_bgcolor=\"black\")\n",
    "fig.show()"
   ]
  },
  {
   "cell_type": "markdown",
   "metadata": {},
   "source": [
    "### top 5 countries with biggest contraception deficit - most women in the population can't get modern methods "
   ]
  },
  {
   "cell_type": "code",
   "execution_count": 592,
   "metadata": {},
   "outputs": [
    {
     "data": {
      "text/html": [
       "<div>\n",
       "<style scoped>\n",
       "    .dataframe tbody tr th:only-of-type {\n",
       "        vertical-align: middle;\n",
       "    }\n",
       "\n",
       "    .dataframe tbody tr th {\n",
       "        vertical-align: top;\n",
       "    }\n",
       "\n",
       "    .dataframe thead th {\n",
       "        text-align: right;\n",
       "    }\n",
       "</style>\n",
       "<table border=\"1\" class=\"dataframe\">\n",
       "  <thead>\n",
       "    <tr style=\"text-align: right;\">\n",
       "      <th></th>\n",
       "      <th>country</th>\n",
       "      <th>deficit</th>\n",
       "    </tr>\n",
       "  </thead>\n",
       "  <tbody>\n",
       "    <tr>\n",
       "      <th>375</th>\n",
       "      <td>Trinidad and Tobago</td>\n",
       "      <td>0.359253</td>\n",
       "    </tr>\n",
       "    <tr>\n",
       "      <th>96</th>\n",
       "      <td>Benin</td>\n",
       "      <td>0.353045</td>\n",
       "    </tr>\n",
       "    <tr>\n",
       "      <th>69</th>\n",
       "      <td>Democratic Republic of the Congo</td>\n",
       "      <td>0.343093</td>\n",
       "    </tr>\n",
       "    <tr>\n",
       "      <th>261</th>\n",
       "      <td>Azerbaijan</td>\n",
       "      <td>0.337673</td>\n",
       "    </tr>\n",
       "    <tr>\n",
       "      <th>75</th>\n",
       "      <td>Gabon</td>\n",
       "      <td>0.328185</td>\n",
       "    </tr>\n",
       "    <tr>\n",
       "      <th>120</th>\n",
       "      <td>Liberia</td>\n",
       "      <td>0.324202</td>\n",
       "    </tr>\n",
       "    <tr>\n",
       "      <th>105</th>\n",
       "      <td>Côte d'Ivoire</td>\n",
       "      <td>0.317191</td>\n",
       "    </tr>\n",
       "    <tr>\n",
       "      <th>78</th>\n",
       "      <td>Sao Tome and Principe</td>\n",
       "      <td>0.313873</td>\n",
       "    </tr>\n",
       "    <tr>\n",
       "      <th>141</th>\n",
       "      <td>Togo</td>\n",
       "      <td>0.307499</td>\n",
       "    </tr>\n",
       "    <tr>\n",
       "      <th>54</th>\n",
       "      <td>Angola</td>\n",
       "      <td>0.307037</td>\n",
       "    </tr>\n",
       "  </tbody>\n",
       "</table>\n",
       "</div>"
      ],
      "text/plain": [
       "                              country   deficit\n",
       "375               Trinidad and Tobago  0.359253\n",
       "96                              Benin  0.353045\n",
       "69   Democratic Republic of the Congo  0.343093\n",
       "261                        Azerbaijan  0.337673\n",
       "75                              Gabon  0.328185\n",
       "120                           Liberia  0.324202\n",
       "105                     Côte d'Ivoire  0.317191\n",
       "78              Sao Tome and Principe  0.313873\n",
       "141                              Togo  0.307499\n",
       "54                             Angola  0.307037"
      ]
     },
     "execution_count": 592,
     "metadata": {},
     "output_type": "execute_result"
    }
   ],
   "source": [
    "tidy.sort_values(\"deficit\", ascending=False)[[\"country\",\"deficit\"]].head(10)"
   ]
  },
  {
   "cell_type": "code",
   "execution_count": 597,
   "metadata": {},
   "outputs": [
    {
     "data": {
      "text/plain": [
       "count    148.000000\n",
       "mean       0.183813\n",
       "std        0.066015\n",
       "min        0.047851\n",
       "25%        0.138239\n",
       "50%        0.175746\n",
       "75%        0.230436\n",
       "max        0.359253\n",
       "Name: deficit, dtype: float64"
      ]
     },
     "execution_count": 597,
     "metadata": {},
     "output_type": "execute_result"
    }
   ],
   "source": [
    "tidy.deficit.describe()"
   ]
  },
  {
   "cell_type": "code",
   "execution_count": 701,
   "metadata": {},
   "outputs": [
    {
     "data": {
      "text/html": [
       "<iframe\n",
       "    scrolling=\"no\"\n",
       "    width=\"100%\"\n",
       "    height=\"1020\"\n",
       "    src=\"iframe_figures/figure_701.html\"\n",
       "    frameborder=\"0\"\n",
       "    allowfullscreen\n",
       "></iframe>\n"
      ]
     },
     "metadata": {},
     "output_type": "display_data"
    }
   ],
   "source": [
    "fig = px.bar(tidy.sort_values(\"deficit\", ascending=True), x=\"deficit\", y=\"country\", color=\"no_access\", color_continuous_scale=px.colors.diverging.Geyser, \\\n",
    "             orientation='h', hover_name=\"country\", hover_data={\"country\":False, \"no_access\":':.0%'})\n",
    "fig.update_layout(height=1000, font=dict(color=\"white\"))\n",
    "fig.update_layout(plot_bgcolor=\"black\", paper_bgcolor=\"black\")\n",
    "fig.update_xaxes(showgrid=False, zeroline=False, showline=False, title_text='Deficit',tickformat=',.0%', fixedrange=True)\n",
    "fig.update_yaxes(showgrid=False, zeroline=False, showline=False, title_text=None, showticklabels=False, fixedrange=True)\n",
    "fig.update_layout(coloraxis={\"colorbar\":dict(tickformat=',.0%', title_text=\"Relative\")})\n",
    "fig.update_layout(title=dict(text=\"Women Without Access to Modern Contraception\", xanchor='center',yanchor='top', x=.5, y=.97))\n",
    "fig.show(renderer='iframe')"
   ]
  },
  {
   "cell_type": "markdown",
   "metadata": {},
   "source": [
    "## supply and demand plot"
   ]
  },
  {
   "cell_type": "code",
   "execution_count": 704,
   "metadata": {},
   "outputs": [
    {
     "data": {
      "text/html": [
       "<iframe\n",
       "    scrolling=\"no\"\n",
       "    width=\"100%\"\n",
       "    height=\"1020\"\n",
       "    src=\"iframe_figures/figure_704.html\"\n",
       "    frameborder=\"0\"\n",
       "    allowfullscreen\n",
       "></iframe>\n"
      ]
     },
     "metadata": {},
     "output_type": "display_data"
    }
   ],
   "source": [
    "fig = px.scatter(tidy, x=\"supply\", y=\"demand\", color=\"deficit\", size=\"no_access_\", hover_name=\"country\", hover_data={\n",
    "#    \"supply\":False,\n",
    "#    \"demand\":False,\n",
    "    \"deficit\":':.0%',\n",
    "    \"no_access_\": False,\n",
    "    \"no_access\":':.0%'\n",
    "}, color_continuous_scale=px.colors.diverging.Geyser)\n",
    "\n",
    "fig.update_xaxes(range=[0, 1])\n",
    "fig.update_yaxes(range=[0, 1])\n",
    "fig.update_layout(height=1000, font=dict(color=\"white\"))\n",
    "fig.update_layout(plot_bgcolor=\"black\", paper_bgcolor=\"black\")\n",
    "fig.update_xaxes(showgrid=False, zeroline=False, showline=False, title_text='Supply',tickformat=',.0%', fixedrange=True)\n",
    "fig.update_yaxes(showgrid=False, zeroline=False, showline=False, title_text='Demand', tickformat=',.0%', fixedrange=True)\n",
    "fig.update_layout(coloraxis={\"colorbar\":dict(tickformat=',.0%', title_text=\"Deficit\")})\n",
    "fig.update_layout(title=dict(text=\"Deficit in Modern Contraception for Women\", xanchor='center',yanchor='top', x=.5, y=.97))\n",
    "fig.show(renderer='iframe')"
   ]
  },
  {
   "cell_type": "code",
   "execution_count": 705,
   "metadata": {},
   "outputs": [],
   "source": [
    "import chart_studio\n",
    "chart_studio.tools.set_config_file(world_readable=True,\n",
    "                             sharing='public')"
   ]
  },
  {
   "cell_type": "code",
   "execution_count": 706,
   "metadata": {},
   "outputs": [
    {
     "data": {
      "text/plain": [
       "'https://plotly.com/~polinas123/15/'"
      ]
     },
     "execution_count": 706,
     "metadata": {},
     "output_type": "execute_result"
    }
   ],
   "source": [
    "import chart_studio.plotly as py\n",
    "py.plot(fig)"
   ]
  },
  {
   "cell_type": "code",
   "execution_count": 708,
   "metadata": {},
   "outputs": [
    {
     "name": "stdout",
     "output_type": "stream",
     "text": [
      "[NbConvertApp] Converting notebook mmv34.ipynb to html\n",
      "[NbConvertApp] Writing 295667 bytes to mmv34.html\n"
     ]
    }
   ],
   "source": [
    "!jupyter nbconvert --to html mmv34.ipynb --no-input"
   ]
  },
  {
   "cell_type": "code",
   "execution_count": null,
   "metadata": {},
   "outputs": [],
   "source": []
  }
 ],
 "metadata": {
  "kernelspec": {
   "display_name": "Python 3",
   "language": "python",
   "name": "python3"
  },
  "language_info": {
   "codemirror_mode": {
    "name": "ipython",
    "version": 3
   },
   "file_extension": ".py",
   "mimetype": "text/x-python",
   "name": "python",
   "nbconvert_exporter": "python",
   "pygments_lexer": "ipython3",
   "version": "3.7.8"
  }
 },
 "nbformat": 4,
 "nbformat_minor": 4
}
